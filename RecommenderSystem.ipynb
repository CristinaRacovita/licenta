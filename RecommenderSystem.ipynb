{
  "nbformat": 4,
  "nbformat_minor": 0,
  "metadata": {
    "colab": {
      "name": "RecommenderSystem.ipynb",
      "provenance": [],
      "collapsed_sections": [],
      "authorship_tag": "ABX9TyOukSF5Yz843xVVhRaIjR4F",
      "include_colab_link": true
    },
    "kernelspec": {
      "name": "python3",
      "display_name": "Python 3"
    }
  },
  "cells": [
    {
      "cell_type": "markdown",
      "metadata": {
        "id": "view-in-github",
        "colab_type": "text"
      },
      "source": [
        "<a href=\"https://colab.research.google.com/github/CristinaRacovita/licenta/blob/master/RecommenderSystem.ipynb\" target=\"_parent\"><img src=\"https://colab.research.google.com/assets/colab-badge.svg\" alt=\"Open In Colab\"/></a>"
      ]
    },
    {
      "cell_type": "code",
      "metadata": {
        "id": "ybyCH1SsuMAi"
      },
      "source": [
        "import numpy as np\r\n",
        "import pandas as pd\r\n",
        "import tensorflow as tf\r\n",
        "from sklearn.metrics import mean_squared_error"
      ],
      "execution_count": null,
      "outputs": []
    },
    {
      "cell_type": "markdown",
      "metadata": {
        "id": "RDuiQ1CyIhvs"
      },
      "source": [
        "Read datasets (train & test) from https://grouplens.org/datasets/movielens/100k/ "
      ]
    },
    {
      "cell_type": "code",
      "metadata": {
        "colab": {
          "base_uri": "https://localhost:8080/",
          "height": 206
        },
        "id": "WhINhfKBCq1G",
        "outputId": "bd4bafc5-f5ea-4ecf-f44a-373d314b13a7"
      },
      "source": [
        "train_data =  pd.read_csv('/content/u1.base', sep = '\\t', names = ['userId','movieId','rating','timestamp'])\r\n",
        "train_data.head()"
      ],
      "execution_count": null,
      "outputs": [
        {
          "output_type": "execute_result",
          "data": {
            "text/html": [
              "<div>\n",
              "<style scoped>\n",
              "    .dataframe tbody tr th:only-of-type {\n",
              "        vertical-align: middle;\n",
              "    }\n",
              "\n",
              "    .dataframe tbody tr th {\n",
              "        vertical-align: top;\n",
              "    }\n",
              "\n",
              "    .dataframe thead th {\n",
              "        text-align: right;\n",
              "    }\n",
              "</style>\n",
              "<table border=\"1\" class=\"dataframe\">\n",
              "  <thead>\n",
              "    <tr style=\"text-align: right;\">\n",
              "      <th></th>\n",
              "      <th>userId</th>\n",
              "      <th>movieId</th>\n",
              "      <th>rating</th>\n",
              "      <th>timestamp</th>\n",
              "    </tr>\n",
              "  </thead>\n",
              "  <tbody>\n",
              "    <tr>\n",
              "      <th>0</th>\n",
              "      <td>1</td>\n",
              "      <td>1</td>\n",
              "      <td>5</td>\n",
              "      <td>874965758</td>\n",
              "    </tr>\n",
              "    <tr>\n",
              "      <th>1</th>\n",
              "      <td>1</td>\n",
              "      <td>2</td>\n",
              "      <td>3</td>\n",
              "      <td>876893171</td>\n",
              "    </tr>\n",
              "    <tr>\n",
              "      <th>2</th>\n",
              "      <td>1</td>\n",
              "      <td>3</td>\n",
              "      <td>4</td>\n",
              "      <td>878542960</td>\n",
              "    </tr>\n",
              "    <tr>\n",
              "      <th>3</th>\n",
              "      <td>1</td>\n",
              "      <td>4</td>\n",
              "      <td>3</td>\n",
              "      <td>876893119</td>\n",
              "    </tr>\n",
              "    <tr>\n",
              "      <th>4</th>\n",
              "      <td>1</td>\n",
              "      <td>5</td>\n",
              "      <td>3</td>\n",
              "      <td>889751712</td>\n",
              "    </tr>\n",
              "  </tbody>\n",
              "</table>\n",
              "</div>"
            ],
            "text/plain": [
              "   userId  movieId  rating  timestamp\n",
              "0       1        1       5  874965758\n",
              "1       1        2       3  876893171\n",
              "2       1        3       4  878542960\n",
              "3       1        4       3  876893119\n",
              "4       1        5       3  889751712"
            ]
          },
          "metadata": {
            "tags": []
          },
          "execution_count": 14
        }
      ]
    },
    {
      "cell_type": "code",
      "metadata": {
        "colab": {
          "base_uri": "https://localhost:8080/",
          "height": 206
        },
        "id": "IP9L0CgGIZ-X",
        "outputId": "7f89fb49-d4d5-4182-a981-8c311bb09ecd"
      },
      "source": [
        "test_data =  pd.read_csv('/content/u1.test', sep = '\\t', names = ['userId','movieId','rating','timestamp'])\r\n",
        "test_data.head()"
      ],
      "execution_count": null,
      "outputs": [
        {
          "output_type": "execute_result",
          "data": {
            "text/html": [
              "<div>\n",
              "<style scoped>\n",
              "    .dataframe tbody tr th:only-of-type {\n",
              "        vertical-align: middle;\n",
              "    }\n",
              "\n",
              "    .dataframe tbody tr th {\n",
              "        vertical-align: top;\n",
              "    }\n",
              "\n",
              "    .dataframe thead th {\n",
              "        text-align: right;\n",
              "    }\n",
              "</style>\n",
              "<table border=\"1\" class=\"dataframe\">\n",
              "  <thead>\n",
              "    <tr style=\"text-align: right;\">\n",
              "      <th></th>\n",
              "      <th>userId</th>\n",
              "      <th>movieId</th>\n",
              "      <th>rating</th>\n",
              "      <th>timestamp</th>\n",
              "    </tr>\n",
              "  </thead>\n",
              "  <tbody>\n",
              "    <tr>\n",
              "      <th>0</th>\n",
              "      <td>1</td>\n",
              "      <td>6</td>\n",
              "      <td>5</td>\n",
              "      <td>887431973</td>\n",
              "    </tr>\n",
              "    <tr>\n",
              "      <th>1</th>\n",
              "      <td>1</td>\n",
              "      <td>10</td>\n",
              "      <td>3</td>\n",
              "      <td>875693118</td>\n",
              "    </tr>\n",
              "    <tr>\n",
              "      <th>2</th>\n",
              "      <td>1</td>\n",
              "      <td>12</td>\n",
              "      <td>5</td>\n",
              "      <td>878542960</td>\n",
              "    </tr>\n",
              "    <tr>\n",
              "      <th>3</th>\n",
              "      <td>1</td>\n",
              "      <td>14</td>\n",
              "      <td>5</td>\n",
              "      <td>874965706</td>\n",
              "    </tr>\n",
              "    <tr>\n",
              "      <th>4</th>\n",
              "      <td>1</td>\n",
              "      <td>17</td>\n",
              "      <td>3</td>\n",
              "      <td>875073198</td>\n",
              "    </tr>\n",
              "  </tbody>\n",
              "</table>\n",
              "</div>"
            ],
            "text/plain": [
              "   userId  movieId  rating  timestamp\n",
              "0       1        6       5  887431973\n",
              "1       1       10       3  875693118\n",
              "2       1       12       5  878542960\n",
              "3       1       14       5  874965706\n",
              "4       1       17       3  875073198"
            ]
          },
          "metadata": {
            "tags": []
          },
          "execution_count": 15
        }
      ]
    },
    {
      "cell_type": "markdown",
      "metadata": {
        "id": "9DJ4z8GVJRRf"
      },
      "source": [
        "Let's know our data better:\r\n"
      ]
    },
    {
      "cell_type": "code",
      "metadata": {
        "colab": {
          "base_uri": "https://localhost:8080/",
          "height": 300
        },
        "id": "VhvQviAwI7Wp",
        "outputId": "3d956294-cfe4-4895-e285-a7d03650daa6"
      },
      "source": [
        "train_data.describe()"
      ],
      "execution_count": null,
      "outputs": [
        {
          "output_type": "execute_result",
          "data": {
            "text/html": [
              "<div>\n",
              "<style scoped>\n",
              "    .dataframe tbody tr th:only-of-type {\n",
              "        vertical-align: middle;\n",
              "    }\n",
              "\n",
              "    .dataframe tbody tr th {\n",
              "        vertical-align: top;\n",
              "    }\n",
              "\n",
              "    .dataframe thead th {\n",
              "        text-align: right;\n",
              "    }\n",
              "</style>\n",
              "<table border=\"1\" class=\"dataframe\">\n",
              "  <thead>\n",
              "    <tr style=\"text-align: right;\">\n",
              "      <th></th>\n",
              "      <th>userId</th>\n",
              "      <th>movieId</th>\n",
              "      <th>rating</th>\n",
              "      <th>timestamp</th>\n",
              "    </tr>\n",
              "  </thead>\n",
              "  <tbody>\n",
              "    <tr>\n",
              "      <th>count</th>\n",
              "      <td>80000.00000</td>\n",
              "      <td>80000.000000</td>\n",
              "      <td>80000.000000</td>\n",
              "      <td>8.000000e+04</td>\n",
              "    </tr>\n",
              "    <tr>\n",
              "      <th>mean</th>\n",
              "      <td>525.16570</td>\n",
              "      <td>425.705200</td>\n",
              "      <td>3.528350</td>\n",
              "      <td>8.835645e+08</td>\n",
              "    </tr>\n",
              "    <tr>\n",
              "      <th>std</th>\n",
              "      <td>255.94956</td>\n",
              "      <td>331.383936</td>\n",
              "      <td>1.118565</td>\n",
              "      <td>5.318611e+06</td>\n",
              "    </tr>\n",
              "    <tr>\n",
              "      <th>min</th>\n",
              "      <td>1.00000</td>\n",
              "      <td>1.000000</td>\n",
              "      <td>1.000000</td>\n",
              "      <td>8.747247e+08</td>\n",
              "    </tr>\n",
              "    <tr>\n",
              "      <th>25%</th>\n",
              "      <td>334.00000</td>\n",
              "      <td>175.000000</td>\n",
              "      <td>3.000000</td>\n",
              "      <td>8.794556e+08</td>\n",
              "    </tr>\n",
              "    <tr>\n",
              "      <th>50%</th>\n",
              "      <td>535.00000</td>\n",
              "      <td>321.000000</td>\n",
              "      <td>4.000000</td>\n",
              "      <td>8.828441e+08</td>\n",
              "    </tr>\n",
              "    <tr>\n",
              "      <th>75%</th>\n",
              "      <td>744.00000</td>\n",
              "      <td>631.000000</td>\n",
              "      <td>4.000000</td>\n",
              "      <td>8.882676e+08</td>\n",
              "    </tr>\n",
              "    <tr>\n",
              "      <th>max</th>\n",
              "      <td>943.00000</td>\n",
              "      <td>1682.000000</td>\n",
              "      <td>5.000000</td>\n",
              "      <td>8.932866e+08</td>\n",
              "    </tr>\n",
              "  </tbody>\n",
              "</table>\n",
              "</div>"
            ],
            "text/plain": [
              "            userId       movieId        rating     timestamp\n",
              "count  80000.00000  80000.000000  80000.000000  8.000000e+04\n",
              "mean     525.16570    425.705200      3.528350  8.835645e+08\n",
              "std      255.94956    331.383936      1.118565  5.318611e+06\n",
              "min        1.00000      1.000000      1.000000  8.747247e+08\n",
              "25%      334.00000    175.000000      3.000000  8.794556e+08\n",
              "50%      535.00000    321.000000      4.000000  8.828441e+08\n",
              "75%      744.00000    631.000000      4.000000  8.882676e+08\n",
              "max      943.00000   1682.000000      5.000000  8.932866e+08"
            ]
          },
          "metadata": {
            "tags": []
          },
          "execution_count": 16
        }
      ]
    },
    {
      "cell_type": "code",
      "metadata": {
        "colab": {
          "base_uri": "https://localhost:8080/",
          "height": 300
        },
        "id": "pLwLYKoeJ2nF",
        "outputId": "99f6e3cb-156c-4f11-aa02-1cf83fab73e5"
      },
      "source": [
        "test_data.describe()"
      ],
      "execution_count": null,
      "outputs": [
        {
          "output_type": "execute_result",
          "data": {
            "text/html": [
              "<div>\n",
              "<style scoped>\n",
              "    .dataframe tbody tr th:only-of-type {\n",
              "        vertical-align: middle;\n",
              "    }\n",
              "\n",
              "    .dataframe tbody tr th {\n",
              "        vertical-align: top;\n",
              "    }\n",
              "\n",
              "    .dataframe thead th {\n",
              "        text-align: right;\n",
              "    }\n",
              "</style>\n",
              "<table border=\"1\" class=\"dataframe\">\n",
              "  <thead>\n",
              "    <tr style=\"text-align: right;\">\n",
              "      <th></th>\n",
              "      <th>userId</th>\n",
              "      <th>movieId</th>\n",
              "      <th>rating</th>\n",
              "      <th>timestamp</th>\n",
              "    </tr>\n",
              "  </thead>\n",
              "  <tbody>\n",
              "    <tr>\n",
              "      <th>count</th>\n",
              "      <td>20000.00000</td>\n",
              "      <td>20000.000000</td>\n",
              "      <td>20000.00000</td>\n",
              "      <td>2.000000e+04</td>\n",
              "    </tr>\n",
              "    <tr>\n",
              "      <th>mean</th>\n",
              "      <td>211.76095</td>\n",
              "      <td>424.829850</td>\n",
              "      <td>3.53590</td>\n",
              "      <td>8.833864e+08</td>\n",
              "    </tr>\n",
              "    <tr>\n",
              "      <th>std</th>\n",
              "      <td>121.64690</td>\n",
              "      <td>328.452907</td>\n",
              "      <td>1.15368</td>\n",
              "      <td>5.441471e+06</td>\n",
              "    </tr>\n",
              "    <tr>\n",
              "      <th>min</th>\n",
              "      <td>1.00000</td>\n",
              "      <td>1.000000</td>\n",
              "      <td>1.00000</td>\n",
              "      <td>8.747247e+08</td>\n",
              "    </tr>\n",
              "    <tr>\n",
              "      <th>25%</th>\n",
              "      <td>99.00000</td>\n",
              "      <td>174.000000</td>\n",
              "      <td>3.00000</td>\n",
              "      <td>8.793730e+08</td>\n",
              "    </tr>\n",
              "    <tr>\n",
              "      <th>50%</th>\n",
              "      <td>222.00000</td>\n",
              "      <td>322.000000</td>\n",
              "      <td>4.00000</td>\n",
              "      <td>8.824747e+08</td>\n",
              "    </tr>\n",
              "    <tr>\n",
              "      <th>75%</th>\n",
              "      <td>308.00000</td>\n",
              "      <td>633.000000</td>\n",
              "      <td>4.00000</td>\n",
              "      <td>8.882045e+08</td>\n",
              "    </tr>\n",
              "    <tr>\n",
              "      <th>max</th>\n",
              "      <td>462.00000</td>\n",
              "      <td>1591.000000</td>\n",
              "      <td>5.00000</td>\n",
              "      <td>8.932777e+08</td>\n",
              "    </tr>\n",
              "  </tbody>\n",
              "</table>\n",
              "</div>"
            ],
            "text/plain": [
              "            userId       movieId       rating     timestamp\n",
              "count  20000.00000  20000.000000  20000.00000  2.000000e+04\n",
              "mean     211.76095    424.829850      3.53590  8.833864e+08\n",
              "std      121.64690    328.452907      1.15368  5.441471e+06\n",
              "min        1.00000      1.000000      1.00000  8.747247e+08\n",
              "25%       99.00000    174.000000      3.00000  8.793730e+08\n",
              "50%      222.00000    322.000000      4.00000  8.824747e+08\n",
              "75%      308.00000    633.000000      4.00000  8.882045e+08\n",
              "max      462.00000   1591.000000      5.00000  8.932777e+08"
            ]
          },
          "metadata": {
            "tags": []
          },
          "execution_count": 17
        }
      ]
    },
    {
      "cell_type": "code",
      "metadata": {
        "colab": {
          "base_uri": "https://localhost:8080/"
        },
        "id": "EysFijh0O0ZO",
        "outputId": "f5a82f5a-3fa8-4296-9f9e-b990dd5b36ef"
      },
      "source": [
        "train_data.info()"
      ],
      "execution_count": null,
      "outputs": [
        {
          "output_type": "stream",
          "text": [
            "<class 'pandas.core.frame.DataFrame'>\n",
            "RangeIndex: 80000 entries, 0 to 79999\n",
            "Data columns (total 4 columns):\n",
            " #   Column     Non-Null Count  Dtype\n",
            "---  ------     --------------  -----\n",
            " 0   userId     80000 non-null  int64\n",
            " 1   movieId    80000 non-null  int64\n",
            " 2   rating     80000 non-null  int64\n",
            " 3   timestamp  80000 non-null  int64\n",
            "dtypes: int64(4)\n",
            "memory usage: 2.4 MB\n"
          ],
          "name": "stdout"
        }
      ]
    },
    {
      "cell_type": "code",
      "metadata": {
        "colab": {
          "base_uri": "https://localhost:8080/"
        },
        "id": "XGl1WsqTO4GR",
        "outputId": "b848eb3a-19bb-4060-dc0a-839515d8b020"
      },
      "source": [
        "test_data.info()"
      ],
      "execution_count": null,
      "outputs": [
        {
          "output_type": "stream",
          "text": [
            "<class 'pandas.core.frame.DataFrame'>\n",
            "RangeIndex: 20000 entries, 0 to 19999\n",
            "Data columns (total 4 columns):\n",
            " #   Column     Non-Null Count  Dtype\n",
            "---  ------     --------------  -----\n",
            " 0   userId     20000 non-null  int64\n",
            " 1   movieId    20000 non-null  int64\n",
            " 2   rating     20000 non-null  int64\n",
            " 3   timestamp  20000 non-null  int64\n",
            "dtypes: int64(4)\n",
            "memory usage: 625.1 KB\n"
          ],
          "name": "stdout"
        }
      ]
    },
    {
      "cell_type": "code",
      "metadata": {
        "id": "epblkvWMSluz",
        "colab": {
          "base_uri": "https://localhost:8080/"
        },
        "outputId": "99a31e9d-e123-46cf-d5f0-f23391c06c19"
      },
      "source": [
        "print(\"no of ratings:\", train_data.shape[0])\r\n",
        "print(\"no of unique users:\",train_data.userId.unique().shape[0])\r\n",
        "print(\"no of unique movies:\", train_data.movieId.unique().shape[0])\r\n",
        "print(\"maximum rating:\", train_data.rating.max())\r\n",
        "print(\"minimum rating:\", train_data.rating.min())"
      ],
      "execution_count": null,
      "outputs": [
        {
          "output_type": "stream",
          "text": [
            "no of ratings: 80000\n",
            "no of unique users: 943\n",
            "no of unique movies: 1650\n",
            "maximum rating: 5\n",
            "minimum rating: 1\n"
          ],
          "name": "stdout"
        }
      ]
    },
    {
      "cell_type": "code",
      "metadata": {
        "colab": {
          "base_uri": "https://localhost:8080/"
        },
        "id": "Z5gAbuZi8wih",
        "outputId": "bc9cc18a-919e-4338-a564-a06e9f15de38"
      },
      "source": [
        "print(\"no of ratings:\", test_data.shape[0])\r\n",
        "print(\"no of unique users:\",test_data.userId.unique().shape[0])\r\n",
        "print(\"no of unique movies:\", test_data.movieId.unique().shape[0])\r\n",
        "print(\"maximum rating:\", test_data.rating.max())\r\n",
        "print(\"minimum rating:\", test_data.rating.min())"
      ],
      "execution_count": null,
      "outputs": [
        {
          "output_type": "stream",
          "text": [
            "no of ratings: 20000\n",
            "no of unique users: 459\n",
            "no of unique movies: 1410\n",
            "maximum rating: 5\n",
            "minimum rating: 1\n"
          ],
          "name": "stdout"
        }
      ]
    },
    {
      "cell_type": "markdown",
      "metadata": {
        "id": "KwfzQc09ISH7"
      },
      "source": [
        " Using matrix factorization, we can find some latent features that can determine how a user rates a movie. We decompose the matrix into constituent parts in such a way that the product of these parts generates the original matrix.\r\n",
        "\r\n",
        "Obs:\r\n",
        "\r\n",
        "    np.random.normal = random samples from a normal Gaussian distribution. (scale = standard deviation)\r\n",
        "    np.newaxis =  is used to increase the dimension of the existing array by one more dimension\r\n"
      ]
    },
    {
      "cell_type": "code",
      "metadata": {
        "id": "tJ2XZJ9h89BT"
      },
      "source": [
        "class MF():\r\n",
        "\r\n",
        "    # Initializing the user-movie rating matrix, no. of latent features, alpha - learning rate and beta - regularization parameter for bias.\r\n",
        "    def __init__(self, R, K, alpha, beta, iterations):\r\n",
        "        self.R = R\r\n",
        "        self.num_users, self.num_items = R.shape #tupla\r\n",
        "        self.K = K\r\n",
        "        self.alpha = alpha\r\n",
        "        self.beta = beta\r\n",
        "        self.iterations = iterations\r\n",
        "\r\n",
        "    # Initializing user-feature and movie-feature matrix \r\n",
        "    def train(self):\r\n",
        "        self.P = np.random.normal(scale=1./self.K, size=(self.num_users, self.K))\r\n",
        "        self.Q = np.random.normal(scale=1./self.K, size=(self.num_items, self.K))\r\n",
        "\r\n",
        "        # Initializing the bias terms treshold si derivata dif de 0, ponderi\r\n",
        "        self.b_u = np.zeros(self.num_users)\r\n",
        "        self.b_i = np.zeros(self.num_items)\r\n",
        "        self.b = np.mean(self.R[np.where(self.R != 0)]) \r\n",
        "\r\n",
        "        # List of training samples\r\n",
        "        self.samples = [(i, j, self.R[i, j]) for i in range(self.num_users) for j in range(self.num_items) if self.R[i, j] > 0]\r\n",
        "\r\n",
        "        # Stochastic gradient descent for given number of iterations\r\n",
        "        training_process = []\r\n",
        "        aux = 100\r\n",
        "        for i in range(self.iterations):\r\n",
        "          np.random.shuffle(self.samples)          \r\n",
        "          self.sgd()\r\n",
        "          nrmse = self.nrmse()\r\n",
        "          # check if mse curent > last mse\r\n",
        "          if aux - nrmse > 0:\r\n",
        "            training_process.append((i, nrmse))\r\n",
        "            if (i+1) % 10 == 0:\r\n",
        "              print(\"Iteration: %d ; error = %.4f; ant = %.4f\" % (i+1, nrmse, aux))\r\n",
        "            aux = nrmse\r\n",
        "          else:\r\n",
        "            break\r\n",
        "\r\n",
        "        return training_process\r\n",
        "\r\n",
        "    # Computing total normal root mean squared error\r\n",
        "    def nrmse(self):\r\n",
        "        xs, ys = self.R.nonzero()\r\n",
        "        predicted = self.full_matrix()\r\n",
        "        error = 0\r\n",
        "        for x, y in zip(xs, ys):\r\n",
        "            error += pow(self.R[x, y] - predicted[x, y], 2)/len(xs)\r\n",
        "        return np.sqrt(error)/5\r\n",
        "\r\n",
        "    # Stochastic gradient descent to get optimized P and Q matrix - https://www.tensorflow.org/api_docs/python/tf/keras/optimizers/SGD \r\n",
        "    def sgd(self):\r\n",
        "        for i, j, r in self.samples:\r\n",
        "            prediction = self.get_prediction(i, j)\r\n",
        "            e = (r - prediction)\r\n",
        "\r\n",
        "            self.b_u[i] += self.alpha * (e - self.beta * self.b_u[i])\r\n",
        "            self.b_i[j] += self.alpha * (e - self.beta * self.b_i[j])\r\n",
        "\r\n",
        "            self.P[i, :] += self.alpha * (e * self.Q[j, :] - self.beta * self.P[i,:])\r\n",
        "            self.Q[j, :] += self.alpha * (e * self.P[i, :] - self.beta * self.Q[j,:])\r\n",
        "            \r\n",
        "\r\n",
        "    # Rating for user i and movie j\r\n",
        "    def get_prediction(self, i, j):\r\n",
        "        prediction = self.b + self.b_u[i] + self.b_i[j] + self.P[i, :].dot(self.Q[j, :].T)\r\n",
        "        return prediction\r\n",
        "\r\n",
        "    # Full user-movie matrix\r\n",
        "    def full_matrix(self):\r\n",
        "        return mf.b + mf.b_u[:,np.newaxis] + mf.b_i[np.newaxis:,] + mf.P.dot(mf.Q.T)"
      ],
      "execution_count": null,
      "outputs": []
    },
    {
      "cell_type": "code",
      "metadata": {
        "id": "G-91vgNhHEnA",
        "colab": {
          "base_uri": "https://localhost:8080/"
        },
        "outputId": "32e4fe83-9a0a-48d4-b21c-44abd1aaa2eb"
      },
      "source": [
        "R= np.array(train_data.pivot(index = 'userId', columns ='movieId', values = 'rating').fillna(0))\r\n",
        "R\r\n",
        "#alpha=[0.00001, 0.0001, 0.001, 0.005, 0.1]"
      ],
      "execution_count": null,
      "outputs": [
        {
          "output_type": "execute_result",
          "data": {
            "text/plain": [
              "array([[5., 3., 4., ..., 0., 0., 0.],\n",
              "       [4., 0., 0., ..., 0., 0., 0.],\n",
              "       [0., 0., 0., ..., 0., 0., 0.],\n",
              "       ...,\n",
              "       [5., 0., 0., ..., 0., 0., 0.],\n",
              "       [0., 0., 0., ..., 0., 0., 0.],\n",
              "       [0., 5., 0., ..., 0., 0., 0.]])"
            ]
          },
          "metadata": {
            "tags": []
          },
          "execution_count": 25
        }
      ]
    },
    {
      "cell_type": "code",
      "metadata": {
        "colab": {
          "base_uri": "https://localhost:8080/"
        },
        "id": "J1TfdnI7Hba3",
        "outputId": "f2eac8e9-6815-4385-c7aa-f8cff8695ad5"
      },
      "source": [
        "mf = MF(R, K=20, alpha=0.001, beta=0.01, iterations=100)\r\n",
        "training_process = mf.train()  \r\n",
        "print()\r\n",
        "print(\"P x Q:\")\r\n",
        "print(mf.full_matrix())\r\n",
        "print()"
      ],
      "execution_count": null,
      "outputs": [
        {
          "output_type": "stream",
          "text": [
            "Iteration: 10 ; error = 0.1922; ant = 0.1930\n",
            "Iteration: 20 ; error = 0.1873; ant = 0.1876\n",
            "Iteration: 30 ; error = 0.1851; ant = 0.1853\n",
            "Iteration: 40 ; error = 0.1838; ant = 0.1839\n",
            "Iteration: 50 ; error = 0.1827; ant = 0.1828\n",
            "Iteration: 60 ; error = 0.1817; ant = 0.1818\n",
            "Iteration: 70 ; error = 0.1806; ant = 0.1807\n",
            "Iteration: 80 ; error = 0.1792; ant = 0.1793\n",
            "Iteration: 90 ; error = 0.1774; ant = 0.1776\n",
            "Iteration: 100 ; error = 0.1750; ant = 0.1753\n",
            "\n",
            "P x Q:\n",
            "[[3.91774997 3.2660794  3.11792289 ... 3.39359946 3.47742997 3.44731133]\n",
            " [4.0116654  3.42899284 3.20657023 ... 3.47717984 3.57819004 3.56315967]\n",
            " [3.55400966 2.98262672 2.68473175 ... 3.00566322 3.11452076 3.10752798]\n",
            " ...\n",
            " [4.22446423 3.61285858 3.40475282 ... 3.64377841 3.79126769 3.74512867]\n",
            " [4.39710472 3.7276517  3.50395199 ... 3.79642912 3.89519473 3.89227208]\n",
            " [3.68038751 3.20494192 3.00224648 ... 3.20599247 3.37423028 3.33046238]]\n",
            "\n"
          ],
          "name": "stdout"
        }
      ]
    },
    {
      "cell_type": "code",
      "metadata": {
        "colab": {
          "base_uri": "https://localhost:8080/",
          "height": 36
        },
        "id": "MKrsdPWHHbkf",
        "outputId": "cc12c225-8421-4644-8067-fb0a38e5858c"
      },
      "source": [
        "\"\"\"\r\n",
        "\r\n",
        "err test < err train => overfitting\r\n",
        "\r\n",
        "\"\"\"\r\n",
        "\r\n",
        "# mf.get_rating(0,2)"
      ],
      "execution_count": null,
      "outputs": [
        {
          "output_type": "execute_result",
          "data": {
            "application/vnd.google.colaboratory.intrinsic+json": {
              "type": "string"
            },
            "text/plain": [
              "'\\n\\nerr test < err train => overfitting\\n\\n'"
            ]
          },
          "metadata": {
            "tags": []
          },
          "execution_count": 27
        }
      ]
    },
    {
      "cell_type": "markdown",
      "metadata": {
        "id": "BPCM4bfleFHx"
      },
      "source": [
        "Evaluation:"
      ]
    },
    {
      "cell_type": "code",
      "metadata": {
        "colab": {
          "base_uri": "https://localhost:8080/"
        },
        "id": "buiyro4IeD6j",
        "outputId": "ad29d6dc-7691-4864-855b-9118d44f5e3f"
      },
      "source": [
        "predicted = []\r\n",
        "real = []\r\n",
        "\r\n",
        "for index, row in test_data.iterrows():\r\n",
        "  predicted_rating = mf.full_matrix()[row.userId][row.movieId]\r\n",
        "  predicted.append(predicted_rating)\r\n",
        "  real.append(row.rating)\r\n",
        "\r\n",
        "\r\n",
        "error = mean_squared_error(real, predicted)\r\n",
        "error"
      ],
      "execution_count": null,
      "outputs": [
        {
          "output_type": "execute_result",
          "data": {
            "text/plain": [
              "1.5010634998263463"
            ]
          },
          "metadata": {
            "tags": []
          },
          "execution_count": 28
        }
      ]
    },
    {
      "cell_type": "markdown",
      "metadata": {
        "id": "OrMiTvqIyIw9"
      },
      "source": [
        "Read info about movies."
      ]
    },
    {
      "cell_type": "code",
      "metadata": {
        "colab": {
          "base_uri": "https://localhost:8080/",
          "height": 330
        },
        "id": "UHWGFjTVj_D7",
        "outputId": "7fa2bd56-d922-47bc-d3a8-ba353c078c2d"
      },
      "source": [
        "movies_data  =  pd.read_csv('/content/u.item', encoding= 'latin-1', sep = '|', \r\n",
        "  names = ['movieId','movieName','releaseDate','nothing','imdbLink','unkownGenre','actionGenre','adventureGenre','animationGenre','childrensGenre','comedyGenre','crimeGenre','documentaryGenre','dramaGenre','fantasyGenre','filmNoirGenre','horrorGenre','musicalGenre','mysteryGenre','romanceGenre','sciFiGenre','thrillerGenre','warGenre','westernGenre'])\r\n",
        "movies_data.head()"
      ],
      "execution_count": null,
      "outputs": [
        {
          "output_type": "execute_result",
          "data": {
            "text/html": [
              "<div>\n",
              "<style scoped>\n",
              "    .dataframe tbody tr th:only-of-type {\n",
              "        vertical-align: middle;\n",
              "    }\n",
              "\n",
              "    .dataframe tbody tr th {\n",
              "        vertical-align: top;\n",
              "    }\n",
              "\n",
              "    .dataframe thead th {\n",
              "        text-align: right;\n",
              "    }\n",
              "</style>\n",
              "<table border=\"1\" class=\"dataframe\">\n",
              "  <thead>\n",
              "    <tr style=\"text-align: right;\">\n",
              "      <th></th>\n",
              "      <th>movieId</th>\n",
              "      <th>movieName</th>\n",
              "      <th>releaseDate</th>\n",
              "      <th>nothing</th>\n",
              "      <th>imdbLink</th>\n",
              "      <th>unkownGenre</th>\n",
              "      <th>actionGenre</th>\n",
              "      <th>adventureGenre</th>\n",
              "      <th>animationGenre</th>\n",
              "      <th>childrensGenre</th>\n",
              "      <th>comedyGenre</th>\n",
              "      <th>crimeGenre</th>\n",
              "      <th>documentaryGenre</th>\n",
              "      <th>dramaGenre</th>\n",
              "      <th>fantasyGenre</th>\n",
              "      <th>filmNoirGenre</th>\n",
              "      <th>horrorGenre</th>\n",
              "      <th>musicalGenre</th>\n",
              "      <th>mysteryGenre</th>\n",
              "      <th>romanceGenre</th>\n",
              "      <th>sciFiGenre</th>\n",
              "      <th>thrillerGenre</th>\n",
              "      <th>warGenre</th>\n",
              "      <th>westernGenre</th>\n",
              "    </tr>\n",
              "  </thead>\n",
              "  <tbody>\n",
              "    <tr>\n",
              "      <th>0</th>\n",
              "      <td>1</td>\n",
              "      <td>Toy Story (1995)</td>\n",
              "      <td>01-Jan-1995</td>\n",
              "      <td>NaN</td>\n",
              "      <td>http://us.imdb.com/M/title-exact?Toy%20Story%2...</td>\n",
              "      <td>0</td>\n",
              "      <td>0</td>\n",
              "      <td>0</td>\n",
              "      <td>1</td>\n",
              "      <td>1</td>\n",
              "      <td>1</td>\n",
              "      <td>0</td>\n",
              "      <td>0</td>\n",
              "      <td>0</td>\n",
              "      <td>0</td>\n",
              "      <td>0</td>\n",
              "      <td>0</td>\n",
              "      <td>0</td>\n",
              "      <td>0</td>\n",
              "      <td>0</td>\n",
              "      <td>0</td>\n",
              "      <td>0</td>\n",
              "      <td>0</td>\n",
              "      <td>0</td>\n",
              "    </tr>\n",
              "    <tr>\n",
              "      <th>1</th>\n",
              "      <td>2</td>\n",
              "      <td>GoldenEye (1995)</td>\n",
              "      <td>01-Jan-1995</td>\n",
              "      <td>NaN</td>\n",
              "      <td>http://us.imdb.com/M/title-exact?GoldenEye%20(...</td>\n",
              "      <td>0</td>\n",
              "      <td>1</td>\n",
              "      <td>1</td>\n",
              "      <td>0</td>\n",
              "      <td>0</td>\n",
              "      <td>0</td>\n",
              "      <td>0</td>\n",
              "      <td>0</td>\n",
              "      <td>0</td>\n",
              "      <td>0</td>\n",
              "      <td>0</td>\n",
              "      <td>0</td>\n",
              "      <td>0</td>\n",
              "      <td>0</td>\n",
              "      <td>0</td>\n",
              "      <td>0</td>\n",
              "      <td>1</td>\n",
              "      <td>0</td>\n",
              "      <td>0</td>\n",
              "    </tr>\n",
              "    <tr>\n",
              "      <th>2</th>\n",
              "      <td>3</td>\n",
              "      <td>Four Rooms (1995)</td>\n",
              "      <td>01-Jan-1995</td>\n",
              "      <td>NaN</td>\n",
              "      <td>http://us.imdb.com/M/title-exact?Four%20Rooms%...</td>\n",
              "      <td>0</td>\n",
              "      <td>0</td>\n",
              "      <td>0</td>\n",
              "      <td>0</td>\n",
              "      <td>0</td>\n",
              "      <td>0</td>\n",
              "      <td>0</td>\n",
              "      <td>0</td>\n",
              "      <td>0</td>\n",
              "      <td>0</td>\n",
              "      <td>0</td>\n",
              "      <td>0</td>\n",
              "      <td>0</td>\n",
              "      <td>0</td>\n",
              "      <td>0</td>\n",
              "      <td>0</td>\n",
              "      <td>1</td>\n",
              "      <td>0</td>\n",
              "      <td>0</td>\n",
              "    </tr>\n",
              "    <tr>\n",
              "      <th>3</th>\n",
              "      <td>4</td>\n",
              "      <td>Get Shorty (1995)</td>\n",
              "      <td>01-Jan-1995</td>\n",
              "      <td>NaN</td>\n",
              "      <td>http://us.imdb.com/M/title-exact?Get%20Shorty%...</td>\n",
              "      <td>0</td>\n",
              "      <td>1</td>\n",
              "      <td>0</td>\n",
              "      <td>0</td>\n",
              "      <td>0</td>\n",
              "      <td>1</td>\n",
              "      <td>0</td>\n",
              "      <td>0</td>\n",
              "      <td>1</td>\n",
              "      <td>0</td>\n",
              "      <td>0</td>\n",
              "      <td>0</td>\n",
              "      <td>0</td>\n",
              "      <td>0</td>\n",
              "      <td>0</td>\n",
              "      <td>0</td>\n",
              "      <td>0</td>\n",
              "      <td>0</td>\n",
              "      <td>0</td>\n",
              "    </tr>\n",
              "    <tr>\n",
              "      <th>4</th>\n",
              "      <td>5</td>\n",
              "      <td>Copycat (1995)</td>\n",
              "      <td>01-Jan-1995</td>\n",
              "      <td>NaN</td>\n",
              "      <td>http://us.imdb.com/M/title-exact?Copycat%20(1995)</td>\n",
              "      <td>0</td>\n",
              "      <td>0</td>\n",
              "      <td>0</td>\n",
              "      <td>0</td>\n",
              "      <td>0</td>\n",
              "      <td>0</td>\n",
              "      <td>1</td>\n",
              "      <td>0</td>\n",
              "      <td>1</td>\n",
              "      <td>0</td>\n",
              "      <td>0</td>\n",
              "      <td>0</td>\n",
              "      <td>0</td>\n",
              "      <td>0</td>\n",
              "      <td>0</td>\n",
              "      <td>0</td>\n",
              "      <td>1</td>\n",
              "      <td>0</td>\n",
              "      <td>0</td>\n",
              "    </tr>\n",
              "  </tbody>\n",
              "</table>\n",
              "</div>"
            ],
            "text/plain": [
              "   movieId          movieName  ... warGenre  westernGenre\n",
              "0        1   Toy Story (1995)  ...        0             0\n",
              "1        2   GoldenEye (1995)  ...        0             0\n",
              "2        3  Four Rooms (1995)  ...        0             0\n",
              "3        4  Get Shorty (1995)  ...        0             0\n",
              "4        5     Copycat (1995)  ...        0             0\n",
              "\n",
              "[5 rows x 24 columns]"
            ]
          },
          "metadata": {
            "tags": []
          },
          "execution_count": 29
        }
      ]
    },
    {
      "cell_type": "code",
      "metadata": {
        "id": "aE-D_n5j2Zt6"
      },
      "source": [
        "movies_genres = []\r\n",
        "\r\n",
        "for index, row in movies_data.iterrows():\r\n",
        "  genres_string = ''\r\n",
        "  if row['unkownGenre'] == 1:\r\n",
        "    genres_string+='unkown '\r\n",
        "  if row['actionGenre'] == 1:\r\n",
        "    genres_string+='action '\r\n",
        "  if row['adventureGenre'] == 1:\r\n",
        "    genres_string+='adventure '\r\n",
        "  if row['animationGenre'] == 1:\r\n",
        "    genres_string+='animation '\r\n",
        "  if row['childrensGenre'] == 1:\r\n",
        "    genres_string+='childrens '\r\n",
        "  if row['comedyGenre'] == 1:\r\n",
        "    genres_string+='comedy '\r\n",
        "  if row['crimeGenre'] == 1:\r\n",
        "    genres_string+='crime '\r\n",
        "  if row['documentaryGenre'] == 1:\r\n",
        "    genres_string+='documentary '\r\n",
        "  if row['dramaGenre'] == 1:\r\n",
        "    genres_string+='drama '\r\n",
        "  if row['fantasyGenre'] == 1:\r\n",
        "    genres_string+='fantasy '\r\n",
        "  if row['filmNoirGenre'] == 1:\r\n",
        "    genres_string+='filmNoir '\r\n",
        "  if row['horrorGenre'] == 1:\r\n",
        "    genres_string+='horror '\r\n",
        "  if row['musicalGenre'] == 1:\r\n",
        "    genres_string+='musical '\r\n",
        "  if row['mysteryGenre'] == 1:\r\n",
        "    genres_string+='mystery '\r\n",
        "  if row['romanceGenre'] == 1:\r\n",
        "    genres_string+='romance '\r\n",
        "  if row['sciFiGenre'] == 1:\r\n",
        "    genres_string+='sciFi '\r\n",
        "  if row['thrillerGenre'] == 1:\r\n",
        "    genres_string+='thriller '\r\n",
        "  if row['warGenre'] == 1:\r\n",
        "    genres_string+='war '\r\n",
        "  if row['westernGenre'] == 1:\r\n",
        "    genres_string+='western '\r\n",
        "  \r\n",
        "  movies_genres.append(genres_string)\r\n",
        "  genres_string = ''"
      ],
      "execution_count": null,
      "outputs": []
    },
    {
      "cell_type": "code",
      "metadata": {
        "colab": {
          "base_uri": "https://localhost:8080/",
          "height": 206
        },
        "id": "qBy76jYjpItW",
        "outputId": "d71b271b-0cf7-417b-cf14-8758803f2451"
      },
      "source": [
        "movies_data['genres'] = movies_genres\r\n",
        "del movies_data['unkownGenre']\r\n",
        "del movies_data['actionGenre']\r\n",
        "del movies_data['adventureGenre']\r\n",
        "del movies_data['westernGenre']\r\n",
        "del movies_data['warGenre']\r\n",
        "del movies_data['thrillerGenre']\r\n",
        "del movies_data['sciFiGenre']\r\n",
        "del movies_data['romanceGenre']\r\n",
        "del movies_data['mysteryGenre']\r\n",
        "del movies_data['musicalGenre']\r\n",
        "del movies_data['horrorGenre']\r\n",
        "del movies_data['filmNoirGenre']\r\n",
        "del movies_data['fantasyGenre']\r\n",
        "del movies_data['dramaGenre']\r\n",
        "del movies_data['documentaryGenre']\r\n",
        "del movies_data['crimeGenre']\r\n",
        "del movies_data['comedyGenre']\r\n",
        "del movies_data['childrensGenre']\r\n",
        "del movies_data['animationGenre']\r\n",
        "del movies_data['nothing']\r\n",
        "\r\n",
        "movies_data.head()"
      ],
      "execution_count": null,
      "outputs": [
        {
          "output_type": "execute_result",
          "data": {
            "text/html": [
              "<div>\n",
              "<style scoped>\n",
              "    .dataframe tbody tr th:only-of-type {\n",
              "        vertical-align: middle;\n",
              "    }\n",
              "\n",
              "    .dataframe tbody tr th {\n",
              "        vertical-align: top;\n",
              "    }\n",
              "\n",
              "    .dataframe thead th {\n",
              "        text-align: right;\n",
              "    }\n",
              "</style>\n",
              "<table border=\"1\" class=\"dataframe\">\n",
              "  <thead>\n",
              "    <tr style=\"text-align: right;\">\n",
              "      <th></th>\n",
              "      <th>movieId</th>\n",
              "      <th>movieName</th>\n",
              "      <th>releaseDate</th>\n",
              "      <th>imdbLink</th>\n",
              "      <th>genres</th>\n",
              "    </tr>\n",
              "  </thead>\n",
              "  <tbody>\n",
              "    <tr>\n",
              "      <th>0</th>\n",
              "      <td>1</td>\n",
              "      <td>Toy Story (1995)</td>\n",
              "      <td>01-Jan-1995</td>\n",
              "      <td>http://us.imdb.com/M/title-exact?Toy%20Story%2...</td>\n",
              "      <td>animation childrens comedy</td>\n",
              "    </tr>\n",
              "    <tr>\n",
              "      <th>1</th>\n",
              "      <td>2</td>\n",
              "      <td>GoldenEye (1995)</td>\n",
              "      <td>01-Jan-1995</td>\n",
              "      <td>http://us.imdb.com/M/title-exact?GoldenEye%20(...</td>\n",
              "      <td>action adventure thriller</td>\n",
              "    </tr>\n",
              "    <tr>\n",
              "      <th>2</th>\n",
              "      <td>3</td>\n",
              "      <td>Four Rooms (1995)</td>\n",
              "      <td>01-Jan-1995</td>\n",
              "      <td>http://us.imdb.com/M/title-exact?Four%20Rooms%...</td>\n",
              "      <td>thriller</td>\n",
              "    </tr>\n",
              "    <tr>\n",
              "      <th>3</th>\n",
              "      <td>4</td>\n",
              "      <td>Get Shorty (1995)</td>\n",
              "      <td>01-Jan-1995</td>\n",
              "      <td>http://us.imdb.com/M/title-exact?Get%20Shorty%...</td>\n",
              "      <td>action comedy drama</td>\n",
              "    </tr>\n",
              "    <tr>\n",
              "      <th>4</th>\n",
              "      <td>5</td>\n",
              "      <td>Copycat (1995)</td>\n",
              "      <td>01-Jan-1995</td>\n",
              "      <td>http://us.imdb.com/M/title-exact?Copycat%20(1995)</td>\n",
              "      <td>crime drama thriller</td>\n",
              "    </tr>\n",
              "  </tbody>\n",
              "</table>\n",
              "</div>"
            ],
            "text/plain": [
              "   movieId  ...                       genres\n",
              "0        1  ...  animation childrens comedy \n",
              "1        2  ...   action adventure thriller \n",
              "2        3  ...                    thriller \n",
              "3        4  ...         action comedy drama \n",
              "4        5  ...        crime drama thriller \n",
              "\n",
              "[5 rows x 5 columns]"
            ]
          },
          "metadata": {
            "tags": []
          },
          "execution_count": 31
        }
      ]
    },
    {
      "cell_type": "code",
      "metadata": {
        "colab": {
          "base_uri": "https://localhost:8080/"
        },
        "id": "Gm--inudqm_Z",
        "outputId": "db0611ef-4bdd-4e29-c25f-290bbd1a8e4d"
      },
      "source": [
        "def get_recommanfation(userId):\r\n",
        "  best_recommandations = []\r\n",
        "  all_ratings = mf.full_matrix()[userId]\r\n",
        "  for i in range(19):\r\n",
        "    best_recommandations.append(all_ratings.max())\r\n",
        "    itemindex = np.where(all_ratings==all_ratings.max())\r\n",
        "    np.delete(all_ratings, itemindex)\r\n",
        "  return best_recommandations\r\n",
        "    \r\n",
        "get_recommanfation(2)"
      ],
      "execution_count": null,
      "outputs": [
        {
          "output_type": "execute_result",
          "data": {
            "text/plain": [
              "[4.3141752011909595,\n",
              " 4.3141752011909595,\n",
              " 4.3141752011909595,\n",
              " 4.3141752011909595,\n",
              " 4.3141752011909595,\n",
              " 4.3141752011909595,\n",
              " 4.3141752011909595,\n",
              " 4.3141752011909595,\n",
              " 4.3141752011909595,\n",
              " 4.3141752011909595,\n",
              " 4.3141752011909595,\n",
              " 4.3141752011909595,\n",
              " 4.3141752011909595,\n",
              " 4.3141752011909595,\n",
              " 4.3141752011909595,\n",
              " 4.3141752011909595,\n",
              " 4.3141752011909595,\n",
              " 4.3141752011909595,\n",
              " 4.3141752011909595]"
            ]
          },
          "metadata": {
            "tags": []
          },
          "execution_count": 32
        }
      ]
    },
    {
      "cell_type": "code",
      "metadata": {
        "colab": {
          "base_uri": "https://localhost:8080/",
          "height": 424
        },
        "id": "Is3J0A-ut3Kp",
        "outputId": "093da50e-0e1f-4bf2-a261-ae9d9f253b70"
      },
      "source": [
        "train_data"
      ],
      "execution_count": null,
      "outputs": [
        {
          "output_type": "execute_result",
          "data": {
            "text/html": [
              "<div>\n",
              "<style scoped>\n",
              "    .dataframe tbody tr th:only-of-type {\n",
              "        vertical-align: middle;\n",
              "    }\n",
              "\n",
              "    .dataframe tbody tr th {\n",
              "        vertical-align: top;\n",
              "    }\n",
              "\n",
              "    .dataframe thead th {\n",
              "        text-align: right;\n",
              "    }\n",
              "</style>\n",
              "<table border=\"1\" class=\"dataframe\">\n",
              "  <thead>\n",
              "    <tr style=\"text-align: right;\">\n",
              "      <th></th>\n",
              "      <th>userId</th>\n",
              "      <th>movieId</th>\n",
              "      <th>rating</th>\n",
              "      <th>timestamp</th>\n",
              "    </tr>\n",
              "  </thead>\n",
              "  <tbody>\n",
              "    <tr>\n",
              "      <th>0</th>\n",
              "      <td>1</td>\n",
              "      <td>1</td>\n",
              "      <td>5</td>\n",
              "      <td>874965758</td>\n",
              "    </tr>\n",
              "    <tr>\n",
              "      <th>1</th>\n",
              "      <td>1</td>\n",
              "      <td>2</td>\n",
              "      <td>3</td>\n",
              "      <td>876893171</td>\n",
              "    </tr>\n",
              "    <tr>\n",
              "      <th>2</th>\n",
              "      <td>1</td>\n",
              "      <td>3</td>\n",
              "      <td>4</td>\n",
              "      <td>878542960</td>\n",
              "    </tr>\n",
              "    <tr>\n",
              "      <th>3</th>\n",
              "      <td>1</td>\n",
              "      <td>4</td>\n",
              "      <td>3</td>\n",
              "      <td>876893119</td>\n",
              "    </tr>\n",
              "    <tr>\n",
              "      <th>4</th>\n",
              "      <td>1</td>\n",
              "      <td>5</td>\n",
              "      <td>3</td>\n",
              "      <td>889751712</td>\n",
              "    </tr>\n",
              "    <tr>\n",
              "      <th>...</th>\n",
              "      <td>...</td>\n",
              "      <td>...</td>\n",
              "      <td>...</td>\n",
              "      <td>...</td>\n",
              "    </tr>\n",
              "    <tr>\n",
              "      <th>79995</th>\n",
              "      <td>943</td>\n",
              "      <td>1067</td>\n",
              "      <td>2</td>\n",
              "      <td>875501756</td>\n",
              "    </tr>\n",
              "    <tr>\n",
              "      <th>79996</th>\n",
              "      <td>943</td>\n",
              "      <td>1074</td>\n",
              "      <td>4</td>\n",
              "      <td>888640250</td>\n",
              "    </tr>\n",
              "    <tr>\n",
              "      <th>79997</th>\n",
              "      <td>943</td>\n",
              "      <td>1188</td>\n",
              "      <td>3</td>\n",
              "      <td>888640250</td>\n",
              "    </tr>\n",
              "    <tr>\n",
              "      <th>79998</th>\n",
              "      <td>943</td>\n",
              "      <td>1228</td>\n",
              "      <td>3</td>\n",
              "      <td>888640275</td>\n",
              "    </tr>\n",
              "    <tr>\n",
              "      <th>79999</th>\n",
              "      <td>943</td>\n",
              "      <td>1330</td>\n",
              "      <td>3</td>\n",
              "      <td>888692465</td>\n",
              "    </tr>\n",
              "  </tbody>\n",
              "</table>\n",
              "<p>80000 rows × 4 columns</p>\n",
              "</div>"
            ],
            "text/plain": [
              "       userId  movieId  rating  timestamp\n",
              "0           1        1       5  874965758\n",
              "1           1        2       3  876893171\n",
              "2           1        3       4  878542960\n",
              "3           1        4       3  876893119\n",
              "4           1        5       3  889751712\n",
              "...       ...      ...     ...        ...\n",
              "79995     943     1067       2  875501756\n",
              "79996     943     1074       4  888640250\n",
              "79997     943     1188       3  888640250\n",
              "79998     943     1228       3  888640275\n",
              "79999     943     1330       3  888692465\n",
              "\n",
              "[80000 rows x 4 columns]"
            ]
          },
          "metadata": {
            "tags": []
          },
          "execution_count": 33
        }
      ]
    }
  ]
}